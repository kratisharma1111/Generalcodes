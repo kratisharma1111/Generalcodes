{
 "cells": [
  {
   "cell_type": "code",
   "execution_count": null,
   "metadata": {
    "collapsed": false
   },
   "outputs": [],
   "source": [
    "import csv\n",
    "import geo_distance\n",
    "import numpy as np\n",
    "import matplotlib.pyplot as plt\n",
    "\n",
    "latitudes = {}\n",
    "longitudes = {}\n",
    "f = open(\"airport.dat\", encoding='utf-8')\n",
    "for row in csv.reader(f):\n",
    "    airport_id = row[0]\n",
    "    latitudes[airport_id] = float(row[6])\n",
    "    longitudes[airport_id] = float(row[7])\n",
    "\n",
    "distances = []\n",
    "f = open(\"route.dat\", encoding='utf-8')\n",
    "for row in csv.reader(f):\n",
    "    source_airport = row[3]\n",
    "    dest_airport = row[5]\n",
    "    if source_airport in latitudes and dest_airport in latitudes:\n",
    "        source_lat = latitudes[source_airport]\n",
    "        source_long = longitudes[source_airport]\n",
    "        dest_lat = latitudes[dest_airport]\n",
    "        dest_long = longitudes[dest_airport]\n",
    "        distances.append(geo_distance.distance(source_lat,source_long,dest_lat,dest_long))\n",
    "                                               \n",
    "plt.hist(distances, 100, facecolor='r')\n",
    "plt.xlabel(\"Distance (km)\")\n",
    "plt.ylabel(\"Number of flights\")\n",
    "plt.show()\n",
    "                         "
   ]
  },
  {
   "cell_type": "code",
   "execution_count": null,
   "metadata": {
    "collapsed": false
   },
   "outputs": [],
   "source": [
    "import geo_distance\n",
    "geo_distance.distance(-37.814,144.963,52.519,13.406) "
   ]
  },
  {
   "cell_type": "code",
   "execution_count": null,
   "metadata": {
    "collapsed": true
   },
   "outputs": [],
   "source": []
  },
  {
   "cell_type": "code",
   "execution_count": null,
   "metadata": {
    "collapsed": true
   },
   "outputs": [],
   "source": []
  }
 ],
 "metadata": {
  "anaconda-cloud": {},
  "kernelspec": {
   "display_name": "Python [conda root]",
   "language": "python",
   "name": "conda-root-py"
  },
  "language_info": {
   "codemirror_mode": {
    "name": "ipython",
    "version": 3
   },
   "file_extension": ".py",
   "mimetype": "text/x-python",
   "name": "python",
   "nbconvert_exporter": "python",
   "pygments_lexer": "ipython3",
   "version": "3.5.2"
  }
 },
 "nbformat": 4,
 "nbformat_minor": 0
}
