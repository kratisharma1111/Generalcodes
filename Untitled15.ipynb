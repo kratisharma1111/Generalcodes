{
 "cells": [
  {
   "cell_type": "code",
   "execution_count": 25,
   "metadata": {
    "collapsed": false
   },
   "outputs": [
    {
     "name": "stdout",
     "output_type": "stream",
     "text": [
      "TTTAAATTTTCTCCATTAAC\n",
      "TATATGTACGTTCAGTTTGC\n",
      "ACCGAGTATTTCTTAAAATA\n"
     ]
    }
   ],
   "source": [
    "import random\n",
    "import string\n",
    "\n",
    "key_len = 25\n",
    "\n",
    "f = open(\"ref1.fasta\",\"r\")\n",
    "f.readline()\n",
    "for i in f:\n",
    "    keylist = [random.choice(i) for j in range(key_len)]\n",
    "    print(\"\".join(keylist))\n"
   ]
  },
  {
   "cell_type": "code",
   "execution_count": 26,
   "metadata": {
    "collapsed": false
   },
   "outputs": [
    {
     "name": "stdout",
     "output_type": "stream",
     "text": [
      "TATGATTCCTTGCATAATCTATAAA\n",
      "GTCCTTTTTACCATTTTCTCGGTAA\n",
      "\n",
      "CGGAGAAAAGTTTAGATATTAAAA\n"
     ]
    }
   ],
   "source": [
    "import random\n",
    "import string\n",
    "\n",
    "key_len = 25\n",
    "\n",
    "f = open(\"ref1.fasta\",\"r\")\n",
    "f.readline()\n",
    "for i in f:\n",
    "    keylist = [random.choice(i) for j in range(key_len)]\n",
    "    print(\"\".join(keylist))"
   ]
  },
  {
   "cell_type": "code",
   "execution_count": 33,
   "metadata": {
    "collapsed": false
   },
   "outputs": [
    {
     "name": "stdout",
     "output_type": "stream",
     "text": [
      "CTAAAATTCAACTCTTACAACATACTCATATTTACCCTATTTATACACTATCCCTTGACAAAATTTTCGAAGTAATTTTTATATAACCTTCCCACATATATCGACCAGAACCCCTCGTTCTTTTTCTCTATTTCTGCTCTTTGTGGCCTCAAATT\n",
      "['C', 'T', 'A', 'A', 'A', 'A', 'T', 'T', 'C', 'A', 'A', 'C', 'T', 'C', 'T', 'T', 'A', 'C', 'A', 'A', 'C', 'A', 'T', 'A', 'C', 'T', 'C', 'A', 'T', 'A', 'T', 'T', 'T', 'A', 'C', 'C', 'C', 'T', 'A', 'T', 'T', 'T', 'A', 'T', 'A', 'C', 'A', 'C', 'T', 'A', 'T', 'C', 'C', 'C', 'T', 'T', 'G', 'A', 'C', 'A', 'A', 'A', 'A', 'T', 'T', 'T', 'T', 'C', 'G', 'A', 'A', 'G', 'T', 'A', 'A', 'T', 'T', 'T', 'T', 'T', 'A', 'T', 'A', 'T', 'A', 'A', 'C', 'C', 'T', 'T', 'C', 'C', 'C', 'A', 'C', 'A', 'T', 'A', 'T', 'A', 'T', 'C', 'G', 'A', 'C', 'C', 'A', 'G', 'A', 'A', 'C', 'C', 'C', 'C', 'T', 'C', 'G', 'T', 'T', 'C', 'T', 'T', 'T', 'T', 'T', 'C', 'T', 'C', 'T', 'A', 'T', 'T', 'T', 'C', 'T', 'G', 'C', 'T', 'C', 'T', 'T', 'T', 'G', 'T', 'G', 'G', 'C', 'C', 'T', 'C', 'A', 'A', 'A', 'T', 'T']\n",
      "CTGATCCAGACTGACCTTTTAGTACCGGCAGTCACCTTGTATTCGCCAATTTGTCGTGCTTGATTATTCATATTCTTCTCTTTTAAATGTGGGTTTGATTATGCGATCGTCTTTGTATTTTTAGAAGTTTTGGCAAGGCTCTAAATCTATTTACG\n",
      "['C', 'T', 'G', 'A', 'T', 'C', 'C', 'A', 'G', 'A', 'C', 'T', 'G', 'A', 'C', 'C', 'T', 'T', 'T', 'T', 'A', 'G', 'T', 'A', 'C', 'C', 'G', 'G', 'C', 'A', 'G', 'T', 'C', 'A', 'C', 'C', 'T', 'T', 'G', 'T', 'A', 'T', 'T', 'C', 'G', 'C', 'C', 'A', 'A', 'T', 'T', 'T', 'G', 'T', 'C', 'G', 'T', 'G', 'C', 'T', 'T', 'G', 'A', 'T', 'T', 'A', 'T', 'T', 'C', 'A', 'T', 'A', 'T', 'T', 'C', 'T', 'T', 'C', 'T', 'C', 'T', 'T', 'T', 'T', 'A', 'A', 'A', 'T', 'G', 'T', 'G', 'G', 'G', 'T', 'T', 'T', 'G', 'A', 'T', 'T', 'A', 'T', 'G', 'C', 'G', 'A', 'T', 'C', 'G', 'T', 'C', 'T', 'T', 'T', 'G', 'T', 'A', 'T', 'T', 'T', 'T', 'T', 'A', 'G', 'A', 'A', 'G', 'T', 'T', 'T', 'T', 'G', 'G', 'C', 'A', 'A', 'G', 'G', 'C', 'T', 'C', 'T', 'A', 'A', 'A', 'T', 'C', 'T', 'A', 'T', 'T', 'T', 'A', 'C', 'G']\n",
      "AAAAGAATAACACCGAATGAACTGTGAAAAGAATATGTATAAACTTAGGGAGTAAGATAGGTGCATAGGAAAGAAGATATCAAGAGGACAGAATATAGGGTCATTCGGATTTAAGAAAGACGAGAAATATAAGTAGTAGTAGAGATGTGGCATGG\n",
      "['A', 'A', 'A', 'A', 'G', 'A', 'A', 'T', 'A', 'A', 'C', 'A', 'C', 'C', 'G', 'A', 'A', 'T', 'G', 'A', 'A', 'C', 'T', 'G', 'T', 'G', 'A', 'A', 'A', 'A', 'G', 'A', 'A', 'T', 'A', 'T', 'G', 'T', 'A', 'T', 'A', 'A', 'A', 'C', 'T', 'T', 'A', 'G', 'G', 'G', 'A', 'G', 'T', 'A', 'A', 'G', 'A', 'T', 'A', 'G', 'G', 'T', 'G', 'C', 'A', 'T', 'A', 'G', 'G', 'A', 'A', 'A', 'G', 'A', 'A', 'G', 'A', 'T', 'A', 'T', 'C', 'A', 'A', 'G', 'A', 'G', 'G', 'A', 'C', 'A', 'G', 'A', 'A', 'T', 'A', 'T', 'A', 'G', 'G', 'G', 'T', 'C', 'A', 'T', 'T', 'C', 'G', 'G', 'A', 'T', 'T', 'T', 'A', 'A', 'G', 'A', 'A', 'A', 'G', 'A', 'C', 'G', 'A', 'G', 'A', 'A', 'A', 'T', 'A', 'T', 'A', 'A', 'G', 'T', 'A', 'G', 'T', 'A', 'G', 'T', 'A', 'G', 'A', 'G', 'A', 'T', 'G', 'T', 'G', 'G', 'C', 'A', 'T', 'G', 'G']\n"
     ]
    }
   ],
   "source": [
    "import random\n",
    "import string\n",
    "\n",
    "key_len = 20\n",
    "\n",
    "f = open(\"ref1.fasta\",\"r\")\n",
    "f.readline()\n",
    "for i in f:\n",
    "    i = i.strip(\" \")\n",
    "    i = i.strip(\"\\n\")\n",
    "    keylist = [random.choice(i) for j in range(key_len)]\n",
    "    print(\"\".join(keylist))\n",
    "    print(keylist)"
   ]
  },
  {
   "cell_type": "code",
   "execution_count": 46,
   "metadata": {
    "collapsed": false
   },
   "outputs": [
    {
     "name": "stdout",
     "output_type": "stream",
     "text": [
      "ATTTCATCAGCTCTATACTATTACAACGTG\n",
      "TTGTTTGTTTTCTCATCTTATATTTATTAG\n",
      "GTTAGCTAAACGAGCTAAAATGAATAAAGC\n"
     ]
    }
   ],
   "source": [
    "import random\n",
    "import string\n",
    "\n",
    "N = 30\n",
    "\n",
    "f = open(\"ref1.fasta\",\"r\")\n",
    "f.readline()\n",
    "for i in f:\n",
    "    i = i.strip(\" \")\n",
    "    i = i.strip(\"\\n\")\n",
    "    k = list(i)\n",
    "    keylist = [random.choice(k) for j in range(N)]\n",
    "    print(\"\".join(keylist))\n",
    "   "
   ]
  },
  {
   "cell_type": "code",
   "execution_count": 47,
   "metadata": {
    "collapsed": false
   },
   "outputs": [
    {
     "name": "stdout",
     "output_type": "stream",
     "text": [
      "ATTTTAACCCCTCCACAAACCTACCATTAA\n",
      "TGTCCTAGACTAATTGTCACTTTGCCCTGC\n",
      "GAAGGAATACATTCCTTATAAAAGACTGTG\n"
     ]
    }
   ],
   "source": [
    "import random\n",
    "import string\n",
    "\n",
    "N = 30\n",
    "\n",
    "f = open(\"ref1.fasta\",\"r\")\n",
    "f.readline()\n",
    "for i in f:\n",
    "    i = i.strip(\" \")\n",
    "    i = i.strip(\"\\n\")\n",
    "    k = list(i)\n",
    "    keylist = [random.choice(k) for j in range(N)]\n",
    "    print(\"\".join(keylist))\n",
    "   "
   ]
  },
  {
   "cell_type": "code",
   "execution_count": 61,
   "metadata": {
    "collapsed": false
   },
   "outputs": [
    {
     "name": "stdout",
     "output_type": "stream",
     "text": [
      "'ATTCATTCCATTCCACTGCACTCCAATCTTCACATAAAATGTAGACAGAAGCTTTCTGAGAAACTTTTCT'\n",
      "'TCTTTTCAAAGAGTCTTTCGAAGACAGATGTAAAATACACTTCTAACCTCACGTCACCTTACCTTACTTA'\n"
     ]
    },
    {
     "ename": "TypeError",
     "evalue": "'str' object does not support item assignment",
     "output_type": "error",
     "traceback": [
      "\u001b[0;31m---------------------------------------------------------------------------\u001b[0m",
      "\u001b[0;31mTypeError\u001b[0m                                 Traceback (most recent call last)",
      "\u001b[0;32m<ipython-input-61-27f43776b93e>\u001b[0m in \u001b[0;36m<module>\u001b[0;34m()\u001b[0m\n\u001b[1;32m     14\u001b[0m     \u001b[0;32mfor\u001b[0m \u001b[0mbase\u001b[0m \u001b[0;32min\u001b[0m \u001b[0mresult\u001b[0m\u001b[0;34m:\u001b[0m\u001b[0;34m\u001b[0m\u001b[0m\n\u001b[1;32m     15\u001b[0m         \u001b[0;32mif\u001b[0m \u001b[0mbase\u001b[0m \u001b[0;32min\u001b[0m \u001b[0mseq_dict\u001b[0m\u001b[0;34m:\u001b[0m\u001b[0;34m\u001b[0m\u001b[0m\n\u001b[0;32m---> 16\u001b[0;31m             \u001b[0mresult\u001b[0m\u001b[0;34m[\u001b[0m\u001b[0mseq_dict\u001b[0m\u001b[0;34m]\u001b[0m \u001b[0;34m=\u001b[0m \u001b[0mbase\u001b[0m\u001b[0;34m\u001b[0m\u001b[0m\n\u001b[0m\u001b[1;32m     17\u001b[0m             \u001b[0mprint\u001b[0m\u001b[0;34m(\u001b[0m\u001b[0;34m\"\"\u001b[0m\u001b[0;34m.\u001b[0m\u001b[0mjoin\u001b[0m\u001b[0;34m(\u001b[0m\u001b[0mresult\u001b[0m\u001b[0;34m)\u001b[0m\u001b[0;34m)\u001b[0m\u001b[0;34m\u001b[0m\u001b[0m\n\u001b[1;32m     18\u001b[0m \u001b[0mf\u001b[0m\u001b[0;34m.\u001b[0m\u001b[0mclose\u001b[0m\u001b[0;34m(\u001b[0m\u001b[0;34m)\u001b[0m\u001b[0;34m\u001b[0m\u001b[0m\n",
      "\u001b[0;31mTypeError\u001b[0m: 'str' object does not support item assignment"
     ]
    }
   ],
   "source": [
    "import random\n",
    "import string\n",
    "\n",
    "N = 30\n",
    "\n",
    "f = open(\"ref1.fasta\",\"r\")\n",
    "f.readline()\n",
    "for i in f:\n",
    "    i = repr(i.strip())\n",
    "    print(i)\n",
    "    result = i[::-1]\n",
    "    print(result)\n",
    "    seq_dict = {'A':'T','T':'A','G':'C','C':'G'}\n",
    "    for base in result:\n",
    "        if base in seq_dict:\n",
    "            result[seq_dict] = base\n",
    "            print(\"\".join(result))\n",
    "f.close()\n"
   ]
  },
  {
   "cell_type": "code",
   "execution_count": null,
   "metadata": {
    "collapsed": true
   },
   "outputs": [],
   "source": []
  }
 ],
 "metadata": {
  "anaconda-cloud": {},
  "kernelspec": {
   "display_name": "Python [conda root]",
   "language": "python",
   "name": "conda-root-py"
  },
  "language_info": {
   "codemirror_mode": {
    "name": "ipython",
    "version": 3
   },
   "file_extension": ".py",
   "mimetype": "text/x-python",
   "name": "python",
   "nbconvert_exporter": "python",
   "pygments_lexer": "ipython3",
   "version": "3.5.2"
  }
 },
 "nbformat": 4,
 "nbformat_minor": 1
}
