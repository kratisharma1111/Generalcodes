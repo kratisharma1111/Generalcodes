{
 "cells": [
  {
   "cell_type": "code",
   "execution_count": 1,
   "metadata": {
    "collapsed": false
   },
   "outputs": [
    {
     "ename": "SyntaxError",
     "evalue": "invalid syntax (<ipython-input-1-8ba3035e5f35>, line 16)",
     "output_type": "error",
     "traceback": [
      "\u001b[0;36m  File \u001b[0;32m\"<ipython-input-1-8ba3035e5f35>\"\u001b[0;36m, line \u001b[0;32m16\u001b[0m\n\u001b[0;31m    for #1 in range(len(matrix0_ijk)):\u001b[0m\n\u001b[0m                                      ^\u001b[0m\n\u001b[0;31mSyntaxError\u001b[0m\u001b[0;31m:\u001b[0m invalid syntax\n"
     ]
    }
   ],
   "source": [
    "import time\n",
    "\n",
    "matrix0_ijk = [[0 for m in range(10) ] for n in range(10)]\n",
    "matrix1_ijk = [[0 for m in range(10) ] for n in range(10)]\n",
    "\n",
    "result0_1 = [[0 for m in range(10) ] for n in range(10)]\n",
    "\n",
    "start_time_1 = time.time()\n",
    "for d1 in range(10):\n",
    "    for d2 in range(10):\n",
    "        matrix0_ijk[d1][d2] = d1 * d2\n",
    "for d3 in range(10):\n",
    "    for d4 in range(10):\n",
    "        matrix1_ijk[d3][d4] = d3 * d4\n",
    "\n",
    "for #1 in range(len(matrix0_ijk)):\n",
    "        for #2 in range(len(matrix1_ijk[0])):\n",
    "                for #3 in range(len(matrix1_ijk)):\n",
    "                        result0_1[i][j] += matrix0_ijk[i][k] * matrix1_ijk[k][j]\n",
    "\n",
    "for r1 in result0_1:\n",
    "        print(r1)\n",
    "end_time_1 = time.time()\n",
    "total_time_1 = end_time_1 - start_time_1\n",
    "print('%s time is taken in developing matrix 10 * 10' %(total_time_1))\n",
    "\n",
    "\n",
    "matrix0_ikj = [[0 for m in range(10) ] for n in range(10)]\n",
    "matrix1_ikj = [[0 for m in range(10) ] for n in range(10)]\n",
    "\n",
    "result0_2 = [[0 for m in range(10) ] for n in range(10)]\n",
    "\n",
    "start_time_2 = time.time()\n",
    "for d1 in range(10):\n",
    "    for d2 in range(10):\n",
    "        matrix0_ikj[d1][d2] = d1 * d2\n",
    "for d3 in range(10):\n",
    "    for d4 in range(10):\n",
    "        matrix1_ikj[d3][d4] = d3 * d4\n",
    "\n",
    "for #1 in range(len(matrix0_ikj)):\n",
    "    for #3 in range(len(matrix1_ijk[0])):\n",
    "        for #2 in range(len(matrix1_ikj)):\n",
    "            result0_2[i][j] += matrix0_ikj[i][k] * matrix1_ikj[k][j]\n",
    "\n",
    "for r2 in result0_2:\n",
    "    print(r2)\n",
    "\n",
    "end_time_2 = time.time()\n",
    "total_time_2 = end_time_2 - start_time_2\n",
    "print('%s time is taken in developing matrix 10 * 10' %(total_time_2))\n",
    "\n"
   ]
  },
  {
   "cell_type": "code",
   "execution_count": null,
   "metadata": {
    "collapsed": true
   },
   "outputs": [],
   "source": []
  }
 ],
 "metadata": {
  "anaconda-cloud": {},
  "kernelspec": {
   "display_name": "Python [Root]",
   "language": "python",
   "name": "Python [Root]"
  },
  "language_info": {
   "codemirror_mode": {
    "name": "ipython",
    "version": 3
   },
   "file_extension": ".py",
   "mimetype": "text/x-python",
   "name": "python",
   "nbconvert_exporter": "python",
   "pygments_lexer": "ipython3",
   "version": "3.5.2"
  }
 },
 "nbformat": 4,
 "nbformat_minor": 0
}
