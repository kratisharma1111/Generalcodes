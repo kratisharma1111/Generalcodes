{
 "cells": [
  {
   "cell_type": "code",
   "execution_count": 1,
   "metadata": {
    "collapsed": false
   },
   "outputs": [
    {
     "ename": "SyntaxError",
     "evalue": "unexpected EOF while parsing (<ipython-input-1-d298b8d80e4e>, line 6)",
     "output_type": "error",
     "traceback": [
      "\u001b[0;36m  File \u001b[0;32m\"<ipython-input-1-d298b8d80e4e>\"\u001b[0;36m, line \u001b[0;32m6\u001b[0m\n\u001b[0;31m    print(x)\u001b[0m\n\u001b[0m            ^\u001b[0m\n\u001b[0;31mSyntaxError\u001b[0m\u001b[0;31m:\u001b[0m unexpected EOF while parsing\n"
     ]
    }
   ],
   "source": [
    "try:\n",
    "    def isPrime(n):\n",
    "        if n==1:\n",
    "            return False\n",
    "        for x in range(2,n):\n",
    "            print(x)\n"
   ]
  },
  {
   "cell_type": "code",
   "execution_count": null,
   "metadata": {
    "collapsed": false
   },
   "outputs": [],
   "source": [
    "try:\n",
    "    raise Exception('spam', 'eggs')\n",
    "except:\n",
    "        print(type(inst))    # the exception instance\n",
    "        print(inst.args)     # arguments stored in .args\n",
    "        print(inst)          # __str__ allows args to be printed directly,\n",
    "                        # but may be overridden in exception subclasses\n",
    "    x, y = inst.args     # unpack args\n",
    "    print('x =', x)\n",
    "    print('y =', y)\n",
    "\n",
    "<class 'Exception'>\n",
    "('spam', 'eggs')\n",
    "('spam', 'eggs')\n",
    "x = spam\n"
   ]
  },
  {
   "cell_type": "code",
   "execution_count": null,
   "metadata": {
    "collapsed": false
   },
   "outputs": [],
   "source": [
    "import sys\n",
    "for arg in sys.argv[1:]:\n",
    "    try:\n",
    "        f = open(arg, 'r')\n",
    "    except IOError:\n",
    "        print('cannot open', arg)\n",
    "    else:\n",
    "        print(arg, 'has', len(f.readlines()), 'lines')\n",
    "        f.close()"
   ]
  },
  {
   "cell_type": "code",
   "execution_count": null,
   "metadata": {
    "collapsed": false
   },
   "outputs": [],
   "source": [
    "def get_arg(index):\n",
    "    try:\n",
    "        sys.argv[index]\n",
    "    except IndexError:\n",
    "        return ''\n",
    "    else:\n",
    "        return sys.argv[index]"
   ]
  },
  {
   "cell_type": "code",
   "execution_count": null,
   "metadata": {
    "collapsed": false,
    "scrolled": true
   },
   "outputs": [],
   "source": [
    "import sys\n",
    "try:\n",
    "    C = float(sys.argv[1])\n",
    "except IndexError:\n",
    "    print('Celsius degrees must be supplied on the command line')\n",
    "    sys.exit(1)  # abort execution\n",
    "except ValueError:\n",
    "    print('Celsius degrees must be a pure number, '\\\n",
    "          'not \"%s\"' % sys.argv[1])\n",
    "    sys.exit(1)\n",
    "\n",
    "F = 9.0*C/5 + 32\n",
    "print('%gC is %.1fF' % (C, F))"
   ]
  },
  {
   "cell_type": "code",
   "execution_count": 22,
   "metadata": {
    "collapsed": false
   },
   "outputs": [
    {
     "name": "stdout",
     "output_type": "stream",
     "text": [
      "6.298057128101695\n",
      "6.298057128101695\n"
     ]
    }
   ],
   "source": [
    "N = 200\n",
    "Telapsed = 1270233  #microseconds       \n",
    "Mflops = pow(N, 3) / float(Telapsed)\n",
    "Mflops_1 = pow(N, 3) / float(Telapsed)\n",
    "print(Mflops)\n",
    "print(Mflops_1)"
   ]
  },
  {
   "cell_type": "code",
   "execution_count": 11,
   "metadata": {
    "collapsed": false
   },
   "outputs": [
    {
     "name": "stdout",
     "output_type": "stream",
     "text": [
      "[ 0.04479742  0.05818994  0.07558556  0.10495697  0.12753897  0.13743494\n",
      "  0.13758575  0.138143    0.17095058  0.17715392  0.18808281  0.19443767\n",
      "  0.20213022  0.20400086  0.20821772  0.22816118  0.23127913  0.27702835\n",
      "  0.29044763  0.29966431  0.32516532  0.37474542  0.41360811  0.42924694\n",
      "  0.44277325  0.44630151  0.48233689  0.48655168  0.4932248   0.51122596\n",
      "  0.51194027  0.52377475  0.56436075  0.56543363  0.64397875  0.68350565\n",
      "  0.69197708  0.69467164  0.6979887   0.6991302   0.70278055  0.73485274\n",
      "  0.75572895  0.8251871   0.83231394  0.88693668  0.95735257  0.95916218\n",
      "  0.97346442  0.98175657]\n"
     ]
    }
   ],
   "source": [
    "import numpy as np\n",
    "Input = np.random.rand(50)# Creates an array of N random numbers ",
    "\n",
    "Itmp = []\n",
    "Itmp = Input # Make a copy of N random numbers ",
    "\n",
    "Itmp.sort()\n",
    "print(Input)"
   ]
  },
  {
   "cell_type": "code",
   "execution_count": 12,
   "metadata": {
    "collapsed": false
   },
   "outputs": [
    {
     "name": "stdout",
     "output_type": "stream",
     "text": [
      "[ 0.04479742  0.05818994  0.07558556  0.10495697  0.12753897  0.13743494\n",
      "  0.13758575  0.138143    0.17095058  0.17715392  0.18808281  0.19443767\n",
      "  0.20213022  0.20400086  0.20821772  0.22816118  0.23127913  0.27702835\n",
      "  0.29044763  0.29966431  0.32516532  0.37474542  0.41360811  0.42924694\n",
      "  0.44277325  0.44630151  0.48233689  0.48655168  0.4932248   0.51122596\n",
      "  0.51194027  0.52377475  0.56436075  0.56543363  0.64397875  0.68350565\n",
      "  0.69197708  0.69467164  0.6979887   0.6991302   0.70278055  0.73485274\n",
      "  0.75572895  0.8251871   0.83231394  0.88693668  0.95735257  0.95916218\n",
      "  0.97346442  0.98175657]\n",
      "[ 0.04479742  0.05818994  0.07558556  0.10495697  0.12753897  0.13743494\n",
      "  0.13758575  0.138143    0.17095058  0.17715392  0.18808281  0.19443767\n",
      "  0.20213022  0.20400086  0.20821772  0.22816118  0.23127913  0.27702835\n",
      "  0.29044763  0.29966431  0.32516532  0.37474542  0.41360811  0.42924694\n",
      "  0.44277325  0.44630151  0.48233689  0.48655168  0.4932248   0.51122596\n",
      "  0.51194027  0.52377475  0.56436075  0.56543363  0.64397875  0.68350565\n",
      "  0.69197708  0.69467164  0.6979887   0.6991302   0.70278055  0.73485274\n",
      "  0.75572895  0.8251871   0.83231394  0.88693668  0.95735257  0.95916218\n",
      "  0.97346442  0.98175657]\n"
     ]
    }
   ],
   "source": [
    "print(Itmp)\n",
    "print(Input)"
   ]
  },
  {
   "cell_type": "code",
   "execution_count": 15,
   "metadata": {
    "collapsed": false
   },
   "outputs": [
    {
     "name": "stdout",
     "output_type": "stream",
     "text": [
      "[3, 6, 8, 2, 78, 1, 23, 45, 9]\n",
      "[1, 2, 3, 6, 8, 9, 23, 45, 78]\n",
      "[1, 2, 3, 6, 8, 9, 23, 45, 78]\n"
     ]
    }
   ],
   "source": [
    "a = [3, 6, 8, 2, 78, 1, 23, 45, 9]\n",
    "b = a\n",
    "print(b)\n",
    "a.sort()\n",
    "print(a)\n",
    "print(b)"
   ]
  },
  {
   "cell_type": "code",
   "execution_count": 19,
   "metadata": {
    "collapsed": false
   },
   "outputs": [
    {
     "name": "stdout",
     "output_type": "stream",
     "text": [
      "b'total 378536\\ndrwxr-xr-x+ 184 sidkrati  staff       6256 Oct 21 20:40 .\\ndrwxr-xr-x    6 root      admin        204 Jul 29 16:15 ..\\n-r--------    1 sidkrati  staff          7 Jul 29 16:25 .CFUserTextEncoding\\n-rw-r--r--@   1 sidkrati  staff      22532 Oct 16 18:14 .DS_Store\\ndrwx------   86 sidkrati  staff       2924 Oct 21 18:14 .Trash\\n-rw-------    1 sidkrati  staff        352 Jul 31  2015 .Xauthority\\n-rw-------    1 sidkrati  staff       9551 Oct 21 18:14 .bash_history\\n-rw-r--r--@   1 sidkrati  staff       2199 Sep  7 19:04 .bash_profile\\n-rw-r--r--@   1 sidkrati  staff       2107 Sep  7 19:04 .bash_profile-anaconda3.bak\\n-rw-r--r--@   1 sidkrati  staff        939 Mar 22  2015 .bash_profile.macports-saved_2015-03-24_at_10:01:37\\n-rw-r--r--@   1 sidkrati  staff       1721 Apr 24  2015 .bash_profile.macports-saved_2016-08-03_at_18:27:34\\ndrwxr-xr-x  695 sidkrati  staff      23630 Oct 21 19:31 .bash_sessions\\n-rw-r--r--    1 sidkrati  staff         92 Mar 27  2015 .bashrc\\ndrwxr-xr-x    3 sidkrati  staff        102 Apr 20  2015 .cache\\ndrwx------    4 sidkrati  staff        136 Apr 20  2015 .config\\ndrwxr-xr-x    2 sidkrati  staff         68 Sep  7 19:04 .continuum\\ndrwxr-xr--    6 sidkrati  staff        204 Oct 20  2014 .icm\\ndrwxr-xr-x   14 sidkrati  staff        476 Oct 21 19:31 .ipynb_checkpoints\\ndrwxr-xr-x    5 sidkrati  staff        170 Sep 16 19:31 .ipython\\ndrwxr-xr-x    3 sidkrati  staff        102 Sep 16 19:51 .jupyter\\ndrwxr-xr-x    5 sidkrati  staff        170 Oct 17 15:51 .matplotlib\\ndrwxr-xr-x    3 sidkrati  staff        102 Sep  8  2015 .mplayer\\n-rw-------    1 root      staff         13 Apr 25  2015 .mysql_history\\ndrwxr-xr-x    3 sidkrati  staff        102 Jan 17  2016 .oracle_jre_usage\\n-rw-r--r--    1 sidkrati  staff        241 Mar 27  2015 .profile\\ndrwx------    4 sidkrati  staff        136 Oct  4 09:47 .putty\\n-rw-------    1 sidkrati  staff       3556 Oct  3 23:44 .python_history\\n-rw-------    1 sidkrati  staff       1024 Jul 31  2015 .rnd\\n-rw-------    1 sidkrati  staff       1282 Jan 31  2015 .sh_history\\n-rw-r--r--    1 sidkrati  staff        174 Mar  4  2015 .spackle_1.5\\ndrwx------    3 sidkrati  staff        102 Mar  8  2015 .ssh\\ndrwxr-xr-x    6 sidkrati  staff        204 Mar 16  2015 .subversion\\n-rw-------    1 root      staff       1042 Apr 24  2015 .viminfo\\n-rw-r--r--    1 sidkrati  staff        160 Sep 19 23:55 1.py\\n-rw-r--r--    1 sidkrati  staff     182008 Jun  3  2015 1OX8.pdb\\n-rw-r--r--    1 sidkrati  staff     324971 Sep 16 19:14 1ex4.pdb\\n-rw-r--r--    1 sidkrati  staff        424 Sep 20 00:13 2.py\\n-rw-r--r--    1 sidkrati  staff        220 Sep 20 16:31 5.py\\n-rw-r--r--    1 sidkrati  staff        147 Sep 20 16:10 5.pyy\\n-rw-r--r--@   1 sidkrati  staff     157510 Jan 19  2016 AdmissionsDefermentKS.pdf\\ndrwx------    5 sidkrati  staff        170 Feb 29  2016 Applications\\n-rw-r--r--@   1 sidkrati  staff     858052 Aug  7 15:15 Community-2.csv\\ndrwx------+  31 sidkrati  staff       1054 Oct 21 00:13 Desktop\\ndrwx------+  29 sidkrati  staff        986 Oct 21 18:24 Documents\\n-rw-r--r--    1 sidkrati  staff   51589943 Aug 14  2015 Documents.zip\\ndrwx------+ 151 sidkrati  staff       5134 Oct 21 19:24 Downloads\\n-rw-r--r--    1 sidkrati  staff  130905947 Aug 14  2015 Downloads.zip\\n-rw-r--r--@   1 sidkrati  staff          0 Aug 12 10:01 File\\ndrwxr-xr-x    7 sidkrati  staff        238 Dec 14  2014 JAVA\\n-rwxrwxrwx    1 sidkrati  staff     230352 Aug  3 18:54 Krati.csv\\ndrwx------@  65 sidkrati  staff       2210 Sep 16 19:08 Library\\n-rw-r--r--    1 sidkrati  staff      20531 Mar 23  2015 Makefile\\n-rw-r--r--    1 sidkrati  staff        122 Mar 18  2015 Makefrag.cc\\n-rw-r--r--    1 sidkrati  staff         59 Mar 18  2015 Makefrag.cc_lo\\ndrwx------+   5 sidkrati  staff        170 Oct 23  2014 Movies\\ndrwx------+   5 sidkrati  staff        170 Aug 29  2014 Music\\ndrwx------+   7 sidkrati  staff        238 Jul 29 16:36 Pictures\\ndr-xr-xr-x+   5 sidkrati  staff        170 Mar 20  2015 Public\\n-rw-r--r--    1 sidkrati  staff     278888 Jun  3  2015 RAB.pdb\\ndrwxr-xr-x    5 sidkrati  staff        170 Aug 22 10:48 Sites\\n-rw-r--r--    1 sidkrati  staff     182007 Jul 13  2011 Target\\n-rw-r--r--    1 sidkrati  staff       2490 Sep 21 18:10 Untitled.ipynb\\n-rw-r--r--    1 sidkrati  staff       2339 Sep 21 18:53 Untitled1.ipynb\\n-rw-r--r--    1 sidkrati  staff        616 Oct 19 23:08 Untitled10.ipynb\\n-rw-r--r--    1 sidkrati  staff       8436 Oct 21 20:40 Untitled11.ipynb\\n-rw-r--r--    1 sidkrati  staff        592 Sep 21 19:16 Untitled2.ipynb\\n-rw-r--r--    1 sidkrati  staff       1419 Oct  3 18:25 Untitled3.ipynb\\n-rw-r--r--    1 sidkrati  staff       1430 Oct  3 19:23 Untitled4.ipynb\\n-rw-r--r--    1 sidkrati  staff       3179 Oct 10 17:05 Untitled5.ipynb\\n-rw-r--r--    1 sidkrati  staff     382262 Oct 10 18:38 Untitled6.ipynb\\n-rw-r--r--    1 sidkrati  staff     381489 Oct 10 20:21 Untitled7.ipynb\\n-rw-r--r--    1 sidkrati  staff       1907 Oct 15 14:40 Untitled8.ipynb\\n-rw-r--r--    1 sidkrati  staff       2097 Oct 19 14:15 Untitled9.ipynb\\ndrwxr-xr-x    4 sidkrati  staff        136 Mar 23  2015 VirtualBox VMs\\ndrwxr-xr-x    3 sidkrati  staff        102 Sep 21 18:49 __pycache__\\n-rw-r--r--    1 sidkrati  staff       1399 Aug  2 16:05 a.txt\\n-rw-r--r--    1 sidkrati  staff        311 Sep 20 00:02 air1.py\\n-rw-r--r--    1 sidkrati  staff        226 Sep 19 23:44 airdata.py\\n-rw-r--r--    1 sidkrati  staff     850313 Sep 21 18:39 airport.dat\\n-rw-r--r--    1 sidkrati  staff      21051 Sep 20 16:50 airport.data\\n-rw-r--r--@   1 sidkrati  staff        353 Sep 20 16:13 airport1.data\\n-rw-r--r--    1 sidkrati  staff        907 Sep 21 00:33 airport_id.data\\n-rw-r--r--    1 sidkrati  staff        444 Aug  4 20:45 an.py\\n-rw-r--r--    1 sidkrati  staff        233 Aug  5 15:25 att.py\\n-rw-r--r--    1 sidkrati  staff        452 Aug  5 15:13 attendees.py\\n-rw-r--r--    1 sidkrati  staff       3142 Aug  5 13:22 attendees1.csv\\n-rw-r--r--    1 sidkrati  staff       3834 Aug  5 13:22 attendees2.csv\\n-rw-r--r--    1 sidkrati  staff        486 Jul 29 20:45 aunp.pdb\\ndrwxr-xr-x    2 sidkrati  staff         68 Apr 13  2015 bin\\n-rw-r--r--    1 sidkrati  staff         29 Sep 27 17:53 bubblesort.py\\n-rw-r--r--    1 sidkrati  staff        309 Sep  5 11:38 calPrime.py\\n-rw-r--r--    1 sidkrati  staff        834 Jun  5  2015 client.php\\n-rw-r--r--    1 sidkrati  staff      11135 Jun 20  2015 cluster.php\\n-rw-r--r--@   1 sidkrati  staff       4419 Jun  3  2015 clusterreal.php\\ndrwxr-xr-x    5 sidkrati  staff        170 Mar 23  2015 config\\n-rw-r--r--    1 sidkrati  staff      14970 Mar 23  2015 config.log\\n-rwxr-xr-x    1 sidkrati  staff      31385 Mar 23  2015 config.status\\n-rw-r--r--    1 sidkrati  staff         38 Aug  4 19:59 diction.csv\\n-rw-r--r--    1 sidkrati  staff         63 Aug  2 00:26 disease.txt\\ndrwxr-xr-x    5 sidkrati  staff        170 Sep 17  2015 docs\\n-rw-r--r--@   1 sidkrati  staff     250915 Jun 17  2015 drug.png\\n-rw-r--r--    1 sidkrati  staff     241845 Jun 18  2015 drug3.png\\n-rw-r--r--    1 sidkrati  staff         17 Aug  4 19:59 english.csv\\ndrwxr-xr-x    4 sidkrati  staff        136 Mar 23  2015 examples\\n-rw-r--r--    1 sidkrati  staff        486 Aug  1 11:14 f2.php\\n-rwxrwxrwx    1 sidkrati  staff        641 Aug  3 11:06 f3.php\\n-rw-r--r--    1 sidkrati  staff        102 Aug  1 11:53 f4.php\\n-rw-r--r--    1 sidkrati  staff        648 Sep 21 18:48 geo_distance.py\\n-rw-r--r--    1 sidkrati  staff      38152 Oct  3 15:04 helixxheet1ox8.pdb\\ndrwxr-xr-x    4 sidkrati  staff        136 Mar 23  2015 include\\n-rw-r--r--    1 sidkrati  staff       1514 Jul 20 21:23 index.js\\n-rw-r--r--    1 sidkrati  staff       3232 Aug  7 15:42 k.csv\\n-rw-r--r--@   1 sidkrati  staff          3 Aug  4 19:55 k.txt\\n-rw-r--r--    1 sidkrati  staff        804 Aug 11 12:14 k.vcf\\n-rw-r--r--    1 sidkrati  staff          3 Aug  4 19:55 k1.txt\\n-rw-r--r--@   1 sidkrati  staff      32036 Aug  3 19:13 kcsv.csv\\n-rw-r--r--@   1 sidkrati  staff       1440 Aug  7 15:37 krati.py\\n-rw-r--r--    1 sidkrati  staff         97 Aug  1 15:24 l.php\\n-rwxrwxrwx@   1 sidkrati  staff     236092 Aug  2 16:01 l.txt\\n-rw-r--r--    1 sidkrati  staff        137 Aug 31 21:06 lab1.py\\n-rw-r--r--    1 sidkrati  staff         87 Aug  4 22:26 learn.py\\n-rw-r--r--    1 sidkrati  staff          0 Oct 10 16:16 length.txt\\n-rw-r--r--    1 sidkrati  staff     265933 Oct 10 16:23 lengthWords.txt\\n-rwxr-xr-x    1 sidkrati  staff     213631 Mar 18  2015 libtool\\n-rw-r--r--    1 sidkrati  staff        124 Sep 23 11:04 list.py\\n-rw-r--r--    1 sidkrati  staff       2173 Sep 21 00:33 longitudes.data\\n-rw-r--r--    1 sidkrati  staff     398422 Aug  3 19:50 m.csv\\n-rw-r--r--    1 sidkrati  staff         50 Sep 14 19:24 m.py\\n-rw-r--r--    1 sidkrati  staff        818 Aug  3 11:07 m.txt\\n-rw-r--r--    1 sidkrati  staff        284 Sep 20 16:53 map.py\\n-rw-r--r--    1 sidkrati  staff        236 Sep 28 00:30 mat.py\\ndrwxr-xr-x    4 sidkrati  staff        136 Oct 20 10:45 matrix\\n-rw-r--r--    1 sidkrati  staff        776 Sep 26 15:47 matrix.py\\n-rw-r--r--    1 sidkrati  staff        271 Sep 26 17:07 matrix1.py\\n-rw-r--r--    1 sidkrati  staff        159 Sep 28 00:33 matrixNew.py\\n-rw-------    1 sidkrati  staff        160 Sep 28 00:45 matrixNew.py.save\\n-rw-------    1 sidkrati  staff        160 Sep 28 00:45 matrixNew.py.save.1\\ndrwxr-xr-x    4 sidkrati  staff        136 Mar 23  2015 msc\\n-rw-r--r--    1 root      staff         83 Apr  8  2015 my.cnf\\n-rw-r--r--    1 sidkrati  staff       8801 Aug 11 12:19 myFiles.action\\n-rw-r--r--    1 sidkrati  staff          0 Apr  7  2015 new\\n-rw-r--r--    1 sidkrati  staff       2281 Aug  4 20:43 new.csv\\n-rw-r--r--@   1 sidkrati  staff        222 Aug  4 20:44 new1.csv\\n-rw-r--r--@   1 sidkrati  staff        222 Aug  4 20:45 new1.txt\\n-rw-r--r--    1 root      staff       4667 Apr  9  2015 nick.py\\n-rw-r--r--    1 root      staff       2566 Apr 10  2015 nick2.py\\n-rw-r--r--    1 sidkrati  staff          5 Sep 14 19:24 out.txt\\n-rw-r--r--    1 sidkrati  staff          0 Sep 20 15:56 outfile.data\\n-rw-r--r--    1 sidkrati  staff       2877 Sep 20 17:03 output.data\\n-rw-r--r--    1 sidkrati  staff       5047 Jul 17  2015 output.php\\n-rw-r--r--@   1 sidkrati  staff       1809 Jul 17  2015 output1.php\\n-rw-r--r--@   1 sidkrati  staff       4936 Aug  8  2015 outputscript.php\\n-rw-r--r--    1 sidkrati  staff     268423 Aug  3 19:51 p.csv\\ndrwxr-xr-x    5 sidkrati  staff        170 Sep 20 15:07 python\\n-rw-r--r--    1 sidkrati  staff      19816 Sep 20 00:21 radishsurvey.txt\\n-rw-r--r--@   1 sidkrati  staff        548 Aug  1 14:24 rd1.csv\\n-rw-r--r--    1 sidkrati  staff         54 Aug  1 14:22 rd3.txt\\n-rw-r--r--@   1 sidkrati  staff         10 Aug  2 15:58 rd5.csv\\n-rw-r--r--    1 sidkrati  staff      24239 Aug  3 19:17 rdList.csv\\n-rw-r--r--@   1 sidkrati  staff        224 Aug  4 20:22 rdList1.csv\\n-rw-r--r--    1 sidkrati  staff      24239 Aug  4 20:15 rdList2.csv\\n-rw-r--r--@   1 sidkrati  staff        995 Aug  4 22:29 rdUMLS.py\\n-rw-r--r--    1 sidkrati  staff     377764 Aug  4 17:17 rdUMLS2.csv\\n-rw-r--r--@   1 sidkrati  staff        522 Aug  4 20:36 rdUMLS3.csv\\n-rw-r--r--    1 sidkrati  staff     398585 Aug  5 15:14 rdUMLSmap.csv\\n-rw-r--r--    1 sidkrati  staff         23 Aug  4 22:29 rdUMLSmap1.csv\\n-rw-r--r--    1 sidkrati  staff     398422 Aug  4 20:15 rdUMLSmap2.csv\\n-rw-r--r--    1 sidkrati  staff     268423 Aug  3 20:04 rdUMLSref.csv\\n-rw-r--r--    1 sidkrati  staff       1017 Aug  4 17:53 ref.py\\n-rw-r--r--    1 sidkrati  staff       1017 Sep 21 16:06 ref.pyn\\n-rw-r--r--@   1 sidkrati  staff        625 Aug  4 17:40 reference.py\\n-rw-r--r--@   1 sidkrati  staff        235 Aug  3 19:49 refine.py\\n-rw-r--r--    1 sidkrati  staff        191 Sep 20 16:31 rout1.da\\n-rw-r--r--    1 sidkrati  staff        173 Sep 20 16:24 route.da\\n-rw-r--r--    1 sidkrati  staff    2307842 Sep 21 18:43 route.dat\\ndrwxrwxrwx   26 sidkrati  staff        884 Apr 10  2015 scripts\\n-rw-r--r--    1 sidkrati  staff        862 Sep 11  2015 searchAll.php\\n-rw-r--r--@   1 sidkrati  staff      25785 Aug  1 10:36 sidkrati\\n-rw-r--r--@   1 sidkrati  staff    1016682 Oct 10 16:09 sortData.txt\\n-rw-r--r--    1 sidkrati  staff        162 Jun  3  2015 splitter.php\\n-rw-r--r--    1 sidkrati  staff        148 Mar 23  2015 tclap.pc\\ndrwxr-xr-x    3 sidkrati  staff        102 Mar 23  2015 tests\\n-rw-r--r--    1 sidkrati  staff         36 Oct 20 23:34 type.txt\\n-rw-r--r--    1 sidkrati  staff      11843 Jun 18  2015 vincristine.pdb\\n'\n"
     ]
    }
   ],
   "source": [
    "import subprocess\n",
    "p = subprocess.Popen(['ls', '-al'], stdout=subprocess.PIPE, stderr=subprocess.PIPE)\n",
    "out, err = p.communicate()\n",
    "print(out)"
   ]
  },
  {
   "cell_type": "code",
   "execution_count": null,
   "metadata": {
    "collapsed": true
   },
   "outputs": [],
   "source": []
  }
 ],
 "metadata": {
  "anaconda-cloud": {},
  "kernelspec": {
   "display_name": "Python [conda root]",
   "language": "python",
   "name": "conda-root-py"
  },
  "language_info": {
   "codemirror_mode": {
    "name": "ipython",
    "version": 3
   },
   "file_extension": ".py",
   "mimetype": "text/x-python",
   "name": "python",
   "nbconvert_exporter": "python",
   "pygments_lexer": "ipython3",
   "version": "3.5.2"
  }
 },
 "nbformat": 4,
 "nbformat_minor": 0
}
